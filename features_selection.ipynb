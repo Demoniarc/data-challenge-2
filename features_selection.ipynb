{
 "cells": [
  {
   "cell_type": "code",
   "execution_count": 37,
   "id": "20cb7e34",
   "metadata": {},
   "outputs": [],
   "source": [
    "import numpy as np\n",
    "from numpy import genfromtxt\n",
    "import matplotlib.pyplot as plt\n",
    "import pandas as pd\n",
    "import seaborn as sns\n",
    "from sklearn.feature_selection import VarianceThreshold\n",
    "from sklearn.feature_selection import SelectKBest, chi2"
   ]
  },
  {
   "cell_type": "code",
   "execution_count": 3,
   "id": "fb827c62",
   "metadata": {},
   "outputs": [
    {
     "data": {
      "text/plain": [
       "<matplotlib.colorbar.Colorbar at 0x1fb06594700>"
      ]
     },
     "execution_count": 3,
     "metadata": {},
     "output_type": "execute_result"
    },
    {
     "data": {
      "image/png": "[encoded data removed]",
      "text/plain": [
       "<Figure size 864x864 with 2 Axes>"
      ]
     },
     "metadata": {
      "needs_background": "light"
     },
     "output_type": "display_data"
    }
   ],
   "source": [
    "data = genfromtxt('SoyabeanData.csv', delimiter=';', skip_header=0)\n",
    "Features = data[1:,2:]\n",
    "plt.figure(figsize=(12,12))\n",
    "Correlation = plt.imshow(np.corrcoef(Features.T), cmap='Greens')\n",
    "plt.colorbar()"
   ]
  },
  {
   "cell_type": "code",
   "execution_count": 4,
   "id": "ba7b15a8",
   "metadata": {
    "scrolled": true
   },
   "outputs": [
    {
     "data": {
      "text/plain": [
       "array([ 1.        , -0.09314829, -0.14671264,  0.00880701, -0.07329484,\n",
       "       -0.18617741, -0.14576401, -0.09096856, -0.18943152,  0.04684002,\n",
       "        0.01854406, -0.12577756, -0.11901319, -0.03154166, -0.13628161,\n",
       "       -0.10308494, -0.06343669, -0.18874954, -0.15923493, -0.12938977,\n",
       "        0.13709344,  0.0557078 ,  0.19191537,  0.21250472,  0.18340554,\n",
       "       -0.24779908, -0.06649069, -0.21649411, -0.11483692, -0.15062831,\n",
       "        0.07731648])"
      ]
     },
     "execution_count": 4,
     "metadata": {},
     "output_type": "execute_result"
    }
   ],
   "source": [
    "Yield_Correlation = np.corrcoef(Features.T)[:,0]\n",
    "Yield_Correlation"
   ]
  },
  {
   "cell_type": "code",
   "execution_count": 25,
   "id": "845f758b",
   "metadata": {},
   "outputs": [
    {
     "name": "stdout",
     "output_type": "stream",
     "text": [
      "Correlation between the yield of year N and the yield of year N-1 : 0.07614033174525343\n",
      "Correlation between the yield of year N and the yield of year N-2 : 0.25768132879586003\n"
     ]
    }
   ],
   "source": [
    "data_2 = genfromtxt('SoyabeanData_2.csv', delimiter=';', skip_header=0)\n",
    "Features_2 = data_2[1:,2:]\n",
    "\n",
    "data_3 = genfromtxt('SoyabeanData_3.csv', delimiter=';', skip_header=0)\n",
    "Features_3 = data_3[1:,2:]\n",
    "\n",
    "Yield_Correlation_2 = np.corrcoef(Features_2.T)[:,0]\n",
    "Yield_Correlation_3 = np.corrcoef(Features_3.T)[:,0]\n",
    "\n",
    "print('Correlation between the yield of year N and the yield of year N-1 :', Yield_Correlation_2[31])\n",
    "print('Correlation between the yield of year N and the yield of year N-2 :', Yield_Correlation_3[32])"
   ]
  },
  {
   "cell_type": "markdown",
   "id": "488d32fb",
   "metadata": {},
   "source": [
    "# Advanced Method : VarianceThreshold"
   ]
  },
  {
   "cell_type": "code",
   "execution_count": 35,
   "id": "be5fa331",
   "metadata": {},
   "outputs": [
    {
     "data": {
      "text/plain": [
       "YEAR         8.267974\n",
       "NDVI_JUN     0.004059\n",
       "NDVI_JUL     0.009381\n",
       "NDVI_AUG     0.006068\n",
       "NDVI_SEP     0.006267\n",
       "NDVI_OCT     0.010046\n",
       "NDVI_NOV     0.005402\n",
       "LAI_JUN      0.036225\n",
       "LAI_JUL      0.047236\n",
       "LAI_AUG      0.084155\n",
       "LAI_SEP      0.138861\n",
       "LAI_OCT      0.230525\n",
       "LAI_NOV      0.101816\n",
       "ET_JUN       2.901293\n",
       "ET_JUL      38.388674\n",
       "ET_AUG      11.158323\n",
       "ET_SEP      27.609512\n",
       "ET_OCT      34.614512\n",
       "ET_NOV      13.258298\n",
       "LST_JUN      4.002001\n",
       "LST_JUL     13.476816\n",
       "LST_AUG      6.517392\n",
       "LST_SEP      3.754824\n",
       "LST_OCT      9.170809\n",
       "LST_NOV      4.415942\n",
       "RF_JUN       8.235071\n",
       "RF_JUL      16.119900\n",
       "RF_AUG      17.227471\n",
       "RF_SEP      14.577022\n",
       "RF_OCT       0.871853\n",
       "RF_NOV       0.071394\n",
       "dtype: float64"
      ]
     },
     "execution_count": 35,
     "metadata": {},
     "output_type": "execute_result"
    }
   ],
   "source": [
    "yields = pd.read_csv('SoyabeanData.csv', sep=\";\", header=0)\n",
    "yields = yields.drop(['DISTRICTS', 'YIELD'], axis=1)\n",
    "yields.var(axis=0)"
   ]
  },
  {
   "cell_type": "code",
   "execution_count": 36,
   "id": "856c66de",
   "metadata": {},
   "outputs": [
    {
     "data": {
      "text/plain": [
       "array([ True, False, False, False, False, False, False, False, False,\n",
       "       False, False, False, False,  True,  True,  True,  True,  True,\n",
       "        True,  True,  True,  True,  True,  True,  True,  True,  True,\n",
       "        True,  True, False, False])"
      ]
     },
     "execution_count": 36,
     "metadata": {},
     "output_type": "execute_result"
    }
   ],
   "source": [
    "selector = VarianceThreshold(threshold = 1)\n",
    "selector.fit_transform(yields)\n",
    "selector.get_support()"
   ]
  },
  {
   "cell_type": "markdown",
   "id": "6de7269e",
   "metadata": {},
   "source": [
    "# Advanced Methode : Chi square"
   ]
  },
  {
   "cell_type": "code",
   "execution_count": 51,
   "id": "ac32977c",
   "metadata": {},
   "outputs": [],
   "source": [
    "yields_2 = pd.read_csv('SoyabeanData.csv', sep=\";\", header=0)\n",
    "y = yields_2[[\"YIELD\"]]     \n",
    "X = yields_2.drop(['YIELD', 'DISTRICTS'], axis=1)"
   ]
  },
  {
   "cell_type": "code",
   "execution_count": 52,
   "id": "5cc04997",
   "metadata": {},
   "outputs": [
    {
     "data": {
      "text/html": [
       "<div>\n",
       "<style scoped>\n",
       "    .dataframe tbody tr th:only-of-type {\n",
       "        vertical-align: middle;\n",
       "    }\n",
       "\n",
       "    .dataframe tbody tr th {\n",
       "        vertical-align: top;\n",
       "    }\n",
       "\n",
       "    .dataframe thead th {\n",
       "        text-align: right;\n",
       "    }\n",
       "</style>\n",
       "<table border=\"1\" class=\"dataframe\">\n",
       "  <thead>\n",
       "    <tr style=\"text-align: right;\">\n",
       "      <th></th>\n",
       "      <th>YIELD</th>\n",
       "    </tr>\n",
       "  </thead>\n",
       "  <tbody>\n",
       "    <tr>\n",
       "      <th>count</th>\n",
       "      <td>460.000000</td>\n",
       "    </tr>\n",
       "    <tr>\n",
       "      <th>mean</th>\n",
       "      <td>0.970943</td>\n",
       "    </tr>\n",
       "    <tr>\n",
       "      <th>std</th>\n",
       "      <td>0.405149</td>\n",
       "    </tr>\n",
       "    <tr>\n",
       "      <th>min</th>\n",
       "      <td>0.000000</td>\n",
       "    </tr>\n",
       "    <tr>\n",
       "      <th>25%</th>\n",
       "      <td>0.661290</td>\n",
       "    </tr>\n",
       "    <tr>\n",
       "      <th>50%</th>\n",
       "      <td>0.935442</td>\n",
       "    </tr>\n",
       "    <tr>\n",
       "      <th>75%</th>\n",
       "      <td>1.272727</td>\n",
       "    </tr>\n",
       "    <tr>\n",
       "      <th>max</th>\n",
       "      <td>2.488515</td>\n",
       "    </tr>\n",
       "  </tbody>\n",
       "</table>\n",
       "</div>"
      ],
      "text/plain": [
       "            YIELD\n",
       "count  460.000000\n",
       "mean     0.970943\n",
       "std      0.405149\n",
       "min      0.000000\n",
       "25%      0.661290\n",
       "50%      0.935442\n",
       "75%      1.272727\n",
       "max      2.488515"
      ]
     },
     "execution_count": 52,
     "metadata": {},
     "output_type": "execute_result"
    }
   ],
   "source": [
    "y.describe()"
   ]
  },
  {
   "cell_type": "code",
   "execution_count": 58,
   "id": "8b6f9855",
   "metadata": {},
   "outputs": [
    {
     "data": {
      "text/html": [
       "<div>\n",
       "<style scoped>\n",
       "    .dataframe tbody tr th:only-of-type {\n",
       "        vertical-align: middle;\n",
       "    }\n",
       "\n",
       "    .dataframe tbody tr th {\n",
       "        vertical-align: top;\n",
       "    }\n",
       "\n",
       "    .dataframe thead th {\n",
       "        text-align: right;\n",
       "    }\n",
       "</style>\n",
       "<table border=\"1\" class=\"dataframe\">\n",
       "  <thead>\n",
       "    <tr style=\"text-align: right;\">\n",
       "      <th></th>\n",
       "      <th>YEAR</th>\n",
       "      <th>NDVI_JUN</th>\n",
       "      <th>NDVI_JUL</th>\n",
       "      <th>NDVI_AUG</th>\n",
       "      <th>NDVI_SEP</th>\n",
       "      <th>NDVI_OCT</th>\n",
       "      <th>NDVI_NOV</th>\n",
       "      <th>LAI_JUN</th>\n",
       "      <th>LAI_JUL</th>\n",
       "      <th>LAI_AUG</th>\n",
       "      <th>...</th>\n",
       "      <th>LST_AUG</th>\n",
       "      <th>LST_SEP</th>\n",
       "      <th>LST_OCT</th>\n",
       "      <th>LST_NOV</th>\n",
       "      <th>RF_JUN</th>\n",
       "      <th>RF_JUL</th>\n",
       "      <th>RF_AUG</th>\n",
       "      <th>RF_SEP</th>\n",
       "      <th>RF_OCT</th>\n",
       "      <th>RF_NOV</th>\n",
       "    </tr>\n",
       "  </thead>\n",
       "  <tbody>\n",
       "    <tr>\n",
       "      <th>0</th>\n",
       "      <td>2010</td>\n",
       "      <td>0.267127</td>\n",
       "      <td>0.422869</td>\n",
       "      <td>0.549074</td>\n",
       "      <td>0.635475</td>\n",
       "      <td>0.590291</td>\n",
       "      <td>0.499968</td>\n",
       "      <td>0.476485</td>\n",
       "      <td>0.566221</td>\n",
       "      <td>1.180546</td>\n",
       "      <td>...</td>\n",
       "      <td>303.4592</td>\n",
       "      <td>302.5775</td>\n",
       "      <td>303.1825</td>\n",
       "      <td>302.7825</td>\n",
       "      <td>3.680000</td>\n",
       "      <td>13.399120</td>\n",
       "      <td>9.782032</td>\n",
       "      <td>8.332526</td>\n",
       "      <td>1.451772</td>\n",
       "      <td>0.177238</td>\n",
       "    </tr>\n",
       "    <tr>\n",
       "      <th>1</th>\n",
       "      <td>2010</td>\n",
       "      <td>0.204788</td>\n",
       "      <td>0.442124</td>\n",
       "      <td>0.636819</td>\n",
       "      <td>0.504908</td>\n",
       "      <td>0.363624</td>\n",
       "      <td>0.374139</td>\n",
       "      <td>0.271169</td>\n",
       "      <td>0.553859</td>\n",
       "      <td>1.567092</td>\n",
       "      <td>...</td>\n",
       "      <td>301.6130</td>\n",
       "      <td>305.5819</td>\n",
       "      <td>309.4097</td>\n",
       "      <td>305.8609</td>\n",
       "      <td>0.799692</td>\n",
       "      <td>12.214660</td>\n",
       "      <td>8.286234</td>\n",
       "      <td>6.260466</td>\n",
       "      <td>0.267456</td>\n",
       "      <td>0.831193</td>\n",
       "    </tr>\n",
       "    <tr>\n",
       "      <th>2</th>\n",
       "      <td>2010</td>\n",
       "      <td>0.474099</td>\n",
       "      <td>0.370348</td>\n",
       "      <td>0.622812</td>\n",
       "      <td>0.761317</td>\n",
       "      <td>0.681799</td>\n",
       "      <td>0.646178</td>\n",
       "      <td>1.010184</td>\n",
       "      <td>0.666346</td>\n",
       "      <td>1.249341</td>\n",
       "      <td>...</td>\n",
       "      <td>300.4666</td>\n",
       "      <td>301.0198</td>\n",
       "      <td>301.0755</td>\n",
       "      <td>300.5775</td>\n",
       "      <td>4.437671</td>\n",
       "      <td>16.387600</td>\n",
       "      <td>16.124900</td>\n",
       "      <td>12.959230</td>\n",
       "      <td>1.698881</td>\n",
       "      <td>0.560686</td>\n",
       "    </tr>\n",
       "    <tr>\n",
       "      <th>3</th>\n",
       "      <td>2010</td>\n",
       "      <td>0.245248</td>\n",
       "      <td>0.338928</td>\n",
       "      <td>0.472167</td>\n",
       "      <td>0.560045</td>\n",
       "      <td>0.451814</td>\n",
       "      <td>0.437550</td>\n",
       "      <td>0.250737</td>\n",
       "      <td>0.489577</td>\n",
       "      <td>0.774511</td>\n",
       "      <td>...</td>\n",
       "      <td>299.5726</td>\n",
       "      <td>305.0602</td>\n",
       "      <td>308.8047</td>\n",
       "      <td>306.8003</td>\n",
       "      <td>4.333467</td>\n",
       "      <td>7.529426</td>\n",
       "      <td>10.633870</td>\n",
       "      <td>5.368312</td>\n",
       "      <td>1.044433</td>\n",
       "      <td>1.204902</td>\n",
       "    </tr>\n",
       "    <tr>\n",
       "      <th>4</th>\n",
       "      <td>2010</td>\n",
       "      <td>0.363338</td>\n",
       "      <td>0.340311</td>\n",
       "      <td>0.536145</td>\n",
       "      <td>0.647831</td>\n",
       "      <td>0.564620</td>\n",
       "      <td>0.577530</td>\n",
       "      <td>0.615970</td>\n",
       "      <td>0.651014</td>\n",
       "      <td>0.991651</td>\n",
       "      <td>...</td>\n",
       "      <td>301.5153</td>\n",
       "      <td>303.1102</td>\n",
       "      <td>304.5974</td>\n",
       "      <td>302.6561</td>\n",
       "      <td>4.536366</td>\n",
       "      <td>15.414000</td>\n",
       "      <td>17.074730</td>\n",
       "      <td>9.245907</td>\n",
       "      <td>1.085629</td>\n",
       "      <td>1.406991</td>\n",
       "    </tr>\n",
       "    <tr>\n",
       "      <th>...</th>\n",
       "      <td>...</td>\n",
       "      <td>...</td>\n",
       "      <td>...</td>\n",
       "      <td>...</td>\n",
       "      <td>...</td>\n",
       "      <td>...</td>\n",
       "      <td>...</td>\n",
       "      <td>...</td>\n",
       "      <td>...</td>\n",
       "      <td>...</td>\n",
       "      <td>...</td>\n",
       "      <td>...</td>\n",
       "      <td>...</td>\n",
       "      <td>...</td>\n",
       "      <td>...</td>\n",
       "      <td>...</td>\n",
       "      <td>...</td>\n",
       "      <td>...</td>\n",
       "      <td>...</td>\n",
       "      <td>...</td>\n",
       "      <td>...</td>\n",
       "    </tr>\n",
       "    <tr>\n",
       "      <th>455</th>\n",
       "      <td>2019</td>\n",
       "      <td>0.312520</td>\n",
       "      <td>0.467670</td>\n",
       "      <td>0.586603</td>\n",
       "      <td>0.650060</td>\n",
       "      <td>0.632386</td>\n",
       "      <td>0.571918</td>\n",
       "      <td>0.581963</td>\n",
       "      <td>0.729820</td>\n",
       "      <td>1.140528</td>\n",
       "      <td>...</td>\n",
       "      <td>303.0883</td>\n",
       "      <td>301.6729</td>\n",
       "      <td>301.8490</td>\n",
       "      <td>301.0930</td>\n",
       "      <td>2.785274</td>\n",
       "      <td>11.660380</td>\n",
       "      <td>10.777380</td>\n",
       "      <td>11.194950</td>\n",
       "      <td>0.824073</td>\n",
       "      <td>0.121162</td>\n",
       "    </tr>\n",
       "    <tr>\n",
       "      <th>456</th>\n",
       "      <td>2019</td>\n",
       "      <td>0.270131</td>\n",
       "      <td>0.468039</td>\n",
       "      <td>0.534768</td>\n",
       "      <td>0.545095</td>\n",
       "      <td>0.501188</td>\n",
       "      <td>0.396876</td>\n",
       "      <td>0.335503</td>\n",
       "      <td>0.487304</td>\n",
       "      <td>1.126526</td>\n",
       "      <td>...</td>\n",
       "      <td>302.1456</td>\n",
       "      <td>300.9986</td>\n",
       "      <td>305.0228</td>\n",
       "      <td>304.3641</td>\n",
       "      <td>1.979300</td>\n",
       "      <td>10.401330</td>\n",
       "      <td>15.542950</td>\n",
       "      <td>13.710500</td>\n",
       "      <td>1.080869</td>\n",
       "      <td>0.265000</td>\n",
       "    </tr>\n",
       "    <tr>\n",
       "      <th>457</th>\n",
       "      <td>2019</td>\n",
       "      <td>0.238206</td>\n",
       "      <td>0.446219</td>\n",
       "      <td>0.441294</td>\n",
       "      <td>0.426055</td>\n",
       "      <td>0.435659</td>\n",
       "      <td>0.435719</td>\n",
       "      <td>0.231742</td>\n",
       "      <td>0.702879</td>\n",
       "      <td>1.065454</td>\n",
       "      <td>...</td>\n",
       "      <td>299.1196</td>\n",
       "      <td>300.8408</td>\n",
       "      <td>305.9274</td>\n",
       "      <td>305.1380</td>\n",
       "      <td>4.307035</td>\n",
       "      <td>11.775490</td>\n",
       "      <td>14.682700</td>\n",
       "      <td>19.515720</td>\n",
       "      <td>1.358897</td>\n",
       "      <td>0.260085</td>\n",
       "    </tr>\n",
       "    <tr>\n",
       "      <th>458</th>\n",
       "      <td>2019</td>\n",
       "      <td>0.378619</td>\n",
       "      <td>0.539210</td>\n",
       "      <td>0.548349</td>\n",
       "      <td>0.643044</td>\n",
       "      <td>0.698606</td>\n",
       "      <td>0.610965</td>\n",
       "      <td>0.823617</td>\n",
       "      <td>1.030752</td>\n",
       "      <td>1.134050</td>\n",
       "      <td>...</td>\n",
       "      <td>301.6267</td>\n",
       "      <td>301.2321</td>\n",
       "      <td>301.7070</td>\n",
       "      <td>301.1878</td>\n",
       "      <td>3.357156</td>\n",
       "      <td>12.994140</td>\n",
       "      <td>16.127260</td>\n",
       "      <td>13.355350</td>\n",
       "      <td>0.462034</td>\n",
       "      <td>0.115618</td>\n",
       "    </tr>\n",
       "    <tr>\n",
       "      <th>459</th>\n",
       "      <td>2019</td>\n",
       "      <td>0.223768</td>\n",
       "      <td>0.414866</td>\n",
       "      <td>0.448722</td>\n",
       "      <td>0.520402</td>\n",
       "      <td>0.454271</td>\n",
       "      <td>0.383052</td>\n",
       "      <td>0.239324</td>\n",
       "      <td>0.492224</td>\n",
       "      <td>1.008207</td>\n",
       "      <td>...</td>\n",
       "      <td>300.1444</td>\n",
       "      <td>301.9313</td>\n",
       "      <td>305.0126</td>\n",
       "      <td>305.4657</td>\n",
       "      <td>2.978857</td>\n",
       "      <td>14.133820</td>\n",
       "      <td>20.064700</td>\n",
       "      <td>20.979780</td>\n",
       "      <td>1.074892</td>\n",
       "      <td>0.218000</td>\n",
       "    </tr>\n",
       "  </tbody>\n",
       "</table>\n",
       "<p>460 rows × 31 columns</p>\n",
       "</div>"
      ],
      "text/plain": [
       "     YEAR  NDVI_JUN  NDVI_JUL  NDVI_AUG  NDVI_SEP  NDVI_OCT  NDVI_NOV  \\\n",
       "0    2010  0.267127  0.422869  0.549074  0.635475  0.590291  0.499968   \n",
       "1    2010  0.204788  0.442124  0.636819  0.504908  0.363624  0.374139   \n",
       "2    2010  0.474099  0.370348  0.622812  0.761317  0.681799  0.646178   \n",
       "3    2010  0.245248  0.338928  0.472167  0.560045  0.451814  0.437550   \n",
       "4    2010  0.363338  0.340311  0.536145  0.647831  0.564620  0.577530   \n",
       "..    ...       ...       ...       ...       ...       ...       ...   \n",
       "455  2019  0.312520  0.467670  0.586603  0.650060  0.632386  0.571918   \n",
       "456  2019  0.270131  0.468039  0.534768  0.545095  0.501188  0.396876   \n",
       "457  2019  0.238206  0.446219  0.441294  0.426055  0.435659  0.435719   \n",
       "458  2019  0.378619  0.539210  0.548349  0.643044  0.698606  0.610965   \n",
       "459  2019  0.223768  0.414866  0.448722  0.520402  0.454271  0.383052   \n",
       "\n",
       "      LAI_JUN   LAI_JUL   LAI_AUG  ...   LST_AUG   LST_SEP   LST_OCT  \\\n",
       "0    0.476485  0.566221  1.180546  ...  303.4592  302.5775  303.1825   \n",
       "1    0.271169  0.553859  1.567092  ...  301.6130  305.5819  309.4097   \n",
       "2    1.010184  0.666346  1.249341  ...  300.4666  301.0198  301.0755   \n",
       "3    0.250737  0.489577  0.774511  ...  299.5726  305.0602  308.8047   \n",
       "4    0.615970  0.651014  0.991651  ...  301.5153  303.1102  304.5974   \n",
       "..        ...       ...       ...  ...       ...       ...       ...   \n",
       "455  0.581963  0.729820  1.140528  ...  303.0883  301.6729  301.8490   \n",
       "456  0.335503  0.487304  1.126526  ...  302.1456  300.9986  305.0228   \n",
       "457  0.231742  0.702879  1.065454  ...  299.1196  300.8408  305.9274   \n",
       "458  0.823617  1.030752  1.134050  ...  301.6267  301.2321  301.7070   \n",
       "459  0.239324  0.492224  1.008207  ...  300.1444  301.9313  305.0126   \n",
       "\n",
       "      LST_NOV    RF_JUN     RF_JUL     RF_AUG     RF_SEP    RF_OCT    RF_NOV  \n",
       "0    302.7825  3.680000  13.399120   9.782032   8.332526  1.451772  0.177238  \n",
       "1    305.8609  0.799692  12.214660   8.286234   6.260466  0.267456  0.831193  \n",
       "2    300.5775  4.437671  16.387600  16.124900  12.959230  1.698881  0.560686  \n",
       "3    306.8003  4.333467   7.529426  10.633870   5.368312  1.044433  1.204902  \n",
       "4    302.6561  4.536366  15.414000  17.074730   9.245907  1.085629  1.406991  \n",
       "..        ...       ...        ...        ...        ...       ...       ...  \n",
       "455  301.0930  2.785274  11.660380  10.777380  11.194950  0.824073  0.121162  \n",
       "456  304.3641  1.979300  10.401330  15.542950  13.710500  1.080869  0.265000  \n",
       "457  305.1380  4.307035  11.775490  14.682700  19.515720  1.358897  0.260085  \n",
       "458  301.1878  3.357156  12.994140  16.127260  13.355350  0.462034  0.115618  \n",
       "459  305.4657  2.978857  14.133820  20.064700  20.979780  1.074892  0.218000  \n",
       "\n",
       "[460 rows x 31 columns]"
      ]
     },
     "execution_count": 58,
     "metadata": {},
     "output_type": "execute_result"
    }
   ],
   "source": [
    "X"
   ]
  },
  {
   "cell_type": "code",
   "execution_count": 53,
   "id": "77fddb38",
   "metadata": {},
   "outputs": [],
   "source": [
    "def test(yields):  \n",
    "    if yields <= 0.935442:\n",
    "        return 'bad year'\n",
    "    else:\n",
    "        return 'good year'"
   ]
  },
  {
   "cell_type": "code",
   "execution_count": 54,
   "id": "5b8f0b5b",
   "metadata": {},
   "outputs": [
    {
     "name": "stderr",
     "output_type": "stream",
     "text": [
      "C:\\Users\\tompo\\AppData\\Local\\Temp\\ipykernel_17896\\891516931.py:1: SettingWithCopyWarning: \n",
      "A value is trying to be set on a copy of a slice from a DataFrame.\n",
      "Try using .loc[row_indexer,col_indexer] = value instead\n",
      "\n",
      "See the caveats in the documentation: https://pandas.pydata.org/pandas-docs/stable/user_guide/indexing.html#returning-a-view-versus-a-copy\n",
      "  y[\"YIELD\"] = y['YIELD'].map(test)\n"
     ]
    }
   ],
   "source": [
    "y[\"YIELD\"] = y['YIELD'].map(test)"
   ]
  },
  {
   "cell_type": "code",
   "execution_count": 55,
   "id": "cf92535c",
   "metadata": {},
   "outputs": [
    {
     "data": {
      "text/plain": [
       "(array([3.57451952e-02, 9.43241726e-02, 2.81438136e-01, 3.24783757e-03,\n",
       "        2.15335647e-02, 2.39395923e-01, 8.10300254e-02, 4.36225661e-01,\n",
       "        7.99976456e-01, 8.49186919e-02, 1.20865705e-04, 1.06966644e+00,\n",
       "        5.80976106e-01, 7.76615173e-01, 1.63426505e+01, 3.47373844e+00,\n",
       "        3.82052707e+00, 2.75691197e+01, 1.33344381e+01, 5.95825269e-02,\n",
       "        1.41308685e-01, 3.65417067e-03, 1.70683582e-01, 4.34607129e-01,\n",
       "        2.00431310e-01, 2.15195388e+01, 3.39356444e+00, 3.43825663e+01,\n",
       "        1.05913328e+01, 2.35121779e+00, 1.19667136e+00]),\n",
       " array([8.50042658e-01, 7.58750203e-01, 5.95760157e-01, 9.54553319e-01,\n",
       "        8.83334724e-01, 6.24642752e-01, 7.75906375e-01, 5.08949817e-01,\n",
       "        3.71100409e-01, 7.70739206e-01, 9.91228318e-01, 3.01020801e-01,\n",
       "        4.45929973e-01, 3.78178343e-01, 5.28607585e-05, 6.23502481e-02,\n",
       "        5.06283098e-02, 1.51579543e-07, 2.60576069e-04, 8.07156994e-01,\n",
       "        7.06983453e-01, 9.51797447e-01, 6.79505000e-01, 5.09736916e-01,\n",
       "        6.54372930e-01, 3.50241883e-06, 6.54513140e-02, 4.52760716e-09,\n",
       "        1.13619043e-03, 1.25185179e-01, 2.73987983e-01]))"
      ]
     },
     "execution_count": 55,
     "metadata": {},
     "output_type": "execute_result"
    }
   ],
   "source": [
    "chi2(X, y)"
   ]
  },
  {
   "cell_type": "code",
   "execution_count": 64,
   "id": "f90c9c8e",
   "metadata": {},
   "outputs": [
    {
     "data": {
      "text/plain": [
       "array([False, False, False, False, False, False, False, False, False,\n",
       "       False, False, False, False, False,  True,  True,  True,  True,\n",
       "        True, False, False, False, False, False, False,  True, False,\n",
       "        True,  True, False, False])"
      ]
     },
     "execution_count": 64,
     "metadata": {},
     "output_type": "execute_result"
    }
   ],
   "source": [
    "selector = SelectKBest(chi2, k=8)\n",
    "selector.fit_transform(X, y)\n",
    "selector.get_support()"
   ]
  },
  {
   "cell_type": "code",
   "execution_count": null,
   "id": "61c72a27",
   "metadata": {},
   "outputs": [],
   "source": []
  }
 ],
 "metadata": {
  "kernelspec": {
   "display_name": "Python 3 (ipykernel)",
   "language": "python",
   "name": "python3"
  },
  "language_info": {
   "codemirror_mode": {
    "name": "ipython",
    "version": 3
   },
   "file_extension": ".py",
   "mimetype": "text/x-python",
   "name": "python",
   "nbconvert_exporter": "python",
   "pygments_lexer": "ipython3",
   "version": "3.9.12"
  }
 },
 "nbformat": 4,
 "nbformat_minor": 5
}
